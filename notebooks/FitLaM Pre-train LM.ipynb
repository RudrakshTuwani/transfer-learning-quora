{
 "cells": [
  {
   "cell_type": "code",
   "execution_count": 1,
   "metadata": {},
   "outputs": [],
   "source": [
    "%matplotlib inline\n",
    "%load_ext autoreload\n",
    "%autoreload 2"
   ]
  },
  {
   "cell_type": "code",
   "execution_count": 2,
   "metadata": {},
   "outputs": [],
   "source": [
    "import sys\n",
    "sys.path.append('..')"
   ]
  },
  {
   "cell_type": "code",
   "execution_count": 3,
   "metadata": {},
   "outputs": [],
   "source": [
    "import torch\n",
    "from fastai.text import *\n",
    "from pathlib import Path\n",
    "import dill as pickle\n",
    "\n",
    "DATA = Path('../data/')\n",
    "LM = DATA/'language-model/'\n",
    "WT = DATA/'wt/models/wt103/'\n",
    "TMP = DATA/'tmp'"
   ]
  },
  {
   "cell_type": "markdown",
   "metadata": {},
   "source": [
    "### 1. Load WikiText Embeddings"
   ]
  },
  {
   "cell_type": "code",
   "execution_count": 8,
   "metadata": {},
   "outputs": [],
   "source": [
    "# Config\n",
    "em_sz, nh, nl = 400, 1150, 3"
   ]
  },
  {
   "cell_type": "code",
   "execution_count": 9,
   "metadata": {},
   "outputs": [
    {
     "name": "stdout",
     "output_type": "stream",
     "text": [
      "Total missing: 15750/60002\n"
     ]
    }
   ],
   "source": [
    "# Load vocab\n",
    "wt_itos = pickle.load((WT/'itos_wt103.pkl').open('rb'))\n",
    "wt_stoi = collections.defaultdict(lambda:-1, {tok:i for i,tok in enumerate(wt_itos)})\n",
    "\n",
    "# Get wikitext encoder weights\n",
    "wgts = torch.load(WT/'fwd_wt103.h5', map_location=lambda storage, loc: storage)\n",
    "enc_wgts = to_np(wgts['0.encoder.weight'])\n",
    "mean_wgts = enc_wgts.mean(0)\n",
    "  \n",
    "# Map quora vocab to wikitext weights\n",
    "quora_wgts = np.zeros((vs, em_sz), dtype=np.float32)\n",
    "miss = []\n",
    "for i, tok in enumerate(itos):\n",
    "    mpidx = wt_stoi[tok]\n",
    "    if mpidx != -1:\n",
    "        quora_wgts[i] = enc_wgts[mpidx]\n",
    "    else:\n",
    "        quora_wgts[i] = mean_wgts\n",
    "        miss.append(tok)\n",
    "        \n",
    "print(f\"Total missing: {len(miss)}/{vs}\")"
   ]
  },
  {
   "cell_type": "code",
   "execution_count": 10,
   "metadata": {},
   "outputs": [],
   "source": [
    "# Modify current encoder weights\n",
    "wgts['0.encoder.weight'] = T(quora_wgts)\n",
    "wgts['0.encoder_with_dropout.embed.weight'] = T(np.copy(quora_wgts))\n",
    "wgts['1.decoder.weight'] = T(np.copy(quora_wgts))"
   ]
  },
  {
   "cell_type": "markdown",
   "metadata": {},
   "source": [
    "### 2. Load Language Model"
   ]
  },
  {
   "cell_type": "code",
   "execution_count": 11,
   "metadata": {},
   "outputs": [],
   "source": [
    "# Config\n",
    "wd = 1e-7\n",
    "bptt = 70\n",
    "bs = 48\n",
    "opt_fn = partial(optim.Adam, betas=(0.8, 0.99))\n",
    "\n",
    "# Dropout\n",
    "drops = np.array([0.25, 0.1, 0.2, 0.02, 0.15])*0.7\n",
    "\n",
    "# Load LM tokens\n",
    "lm_trn = np.load(LM/'lm_trn.npy')\n",
    "lm_val = np.load(LM/'lm_val.npy')\n",
    "\n",
    "# Dataloaders\n",
    "lm_trn_dl = LanguageModelLoader(np.concatenate(lm_trn).astype(np.int64), bs, bptt)\n",
    "lm_val_dl = LanguageModelLoader(np.concatenate(lm_val).astype(np.int64), bs, bptt)\n",
    "md = LanguageModelData(DATA/'tmp', 1, vs, lm_trn_dl, lm_val_dl, bs=bs, bptt=bptt)\n",
    "\n",
    "# Learner\n",
    "ft_encoder= md.get_model(opt_fn, em_sz, nh, nl, \n",
    "    dropouti=drops[0], dropout=drops[1], wdrop=drops[2], dropoute=drops[3], dropouth=drops[4])\n",
    "\n",
    "ft_encoder.metrics = [accuracy]\n",
    "ft_encoder.model.load_state_dict(wgts)"
   ]
  },
  {
   "cell_type": "markdown",
   "metadata": {},
   "source": [
    "#####  Finetune last layer"
   ]
  },
  {
   "cell_type": "code",
   "execution_count": null,
   "metadata": {},
   "outputs": [],
   "source": [
    "ft_encoder.freeze_all_but(-1)\n",
    "\n",
    "wd=1e-9\n",
    "ft_encoder.lr_find(1e-5, end_lr=2, linear=True, wds=wd)"
   ]
  },
  {
   "cell_type": "code",
   "execution_count": 25,
   "metadata": {},
   "outputs": [
    {
     "data": {
      "image/png": "[encoded data removed]",
      "text/plain": [
       "<Figure size 432x288 with 1 Axes>"
      ]
     },
     "metadata": {},
     "output_type": "display_data"
    }
   ],
   "source": [
    "ft_encoder.sched.plot()"
   ]
  },
  {
   "cell_type": "code",
   "execution_count": 15,
   "metadata": {},
   "outputs": [
    {
     "data": {
      "application/vnd.jupyter.widget-view+json": {
       "model_id": "99cf31901e2b4ee0957f256bbde493f0",
       "version_major": 2,
       "version_minor": 0
      },
      "text/plain": [
       "HBox(children=(IntProgress(value=0, description='Epoch', max=1), HTML(value='')))"
      ]
     },
     "metadata": {},
     "output_type": "display_data"
    },
    {
     "name": "stdout",
     "output_type": "stream",
     "text": [
      "epoch      trn_loss   val_loss   accuracy                             \n",
      "    0      4.171768   3.985831   0.362855  \n",
      "\n"
     ]
    },
    {
     "data": {
      "text/plain": [
       "[array([3.98583]), 0.3628553550554766]"
      ]
     },
     "execution_count": 15,
     "metadata": {},
     "output_type": "execute_result"
    }
   ],
   "source": [
    "wd=1e-9\n",
    "lrs=1e-3\n",
    "ft_encoder.fit(lrs, 1, wds=wd, use_clr=(30,10), cycle_len=1)"
   ]
  },
  {
   "cell_type": "code",
   "execution_count": 16,
   "metadata": {},
   "outputs": [],
   "source": [
    "ft_encoder.save('lm_last_ft')"
   ]
  },
  {
   "cell_type": "markdown",
   "metadata": {},
   "source": [
    "##### Finetune rest of the model"
   ]
  },
  {
   "cell_type": "code",
   "execution_count": 21,
   "metadata": {},
   "outputs": [],
   "source": [
    "ft_encoder.load('lm_last_ft')"
   ]
  },
  {
   "cell_type": "code",
   "execution_count": 15,
   "metadata": {},
   "outputs": [],
   "source": [
    "ft_encoder.unfreeze()"
   ]
  },
  {
   "cell_type": "code",
   "execution_count": 19,
   "metadata": {},
   "outputs": [
    {
     "data": {
      "application/vnd.jupyter.widget-view+json": {
       "model_id": "fa4044c8bb2240609c2b024f13bb7cd2",
       "version_major": 2,
       "version_minor": 0
      },
      "text/plain": [
       "HBox(children=(IntProgress(value=0, description='Epoch', max=1), HTML(value='')))"
      ]
     },
     "metadata": {},
     "output_type": "display_data"
    },
    {
     "name": "stdout",
     "output_type": "stream",
     "text": [
      "  6%|▌         | 7382/132358 [14:26<4:04:26,  8.52it/s, loss=16.8]"
     ]
    }
   ],
   "source": [
    "wd=1e-9\n",
    "ft_encoder.lr_find(1e-6, end_lr=2, linear=True, wds=wd)"
   ]
  },
  {
   "cell_type": "code",
   "execution_count": 21,
   "metadata": {},
   "outputs": [
    {
     "data": {
      "image/png": "[encoded data removed]",
      "text/plain": [
       "<Figure size 432x288 with 1 Axes>"
      ]
     },
     "metadata": {},
     "output_type": "display_data"
    }
   ],
   "source": [
    "ft_encoder.sched.plot()"
   ]
  },
  {
   "cell_type": "code",
   "execution_count": null,
   "metadata": {},
   "outputs": [],
   "source": [
    "wd=1e-9\n",
    "lrs=1e-4\n",
    "ft_encoder.fit(lrs, 1, wds=wd, use_clr=(20,10), cycle_len=1)\n",
    "# ft_encoder.fit(lrs, 1, wds=wd, use_clr=(20,10), cycle_len=15)"
   ]
  },
  {
   "cell_type": "code",
   "execution_count": 33,
   "metadata": {},
   "outputs": [],
   "source": [
    "ft_encoder.save('lm1')"
   ]
  },
  {
   "cell_type": "code",
   "execution_count": 34,
   "metadata": {},
   "outputs": [],
   "source": [
    "ft_encoder.save_encoder('lm1_enc')"
   ]
  }
 ],
 "metadata": {
  "kernelspec": {
   "display_name": "fa",
   "language": "python",
   "name": "fa"
  },
  "language_info": {
   "codemirror_mode": {
    "name": "ipython",
    "version": 3
   },
   "file_extension": ".py",
   "mimetype": "text/x-python",
   "name": "python",
   "nbconvert_exporter": "python",
   "pygments_lexer": "ipython3",
   "version": "3.6.5"
  }
 },
 "nbformat": 4,
 "nbformat_minor": 2
}
