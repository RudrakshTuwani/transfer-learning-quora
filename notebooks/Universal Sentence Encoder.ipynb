{
 "cells": [
  {
   "cell_type": "raw",
   "metadata": {},
   "source": [
    "import os\n",
    "os.environ['CUDA_LAUNCH_BLOCKING'] = '1'"
   ]
  },
  {
   "cell_type": "code",
   "execution_count": 1,
   "metadata": {},
   "outputs": [],
   "source": [
    "import sys\n",
    "sys.path.append('..')\n",
    "\n",
    "%matplotlib inline\n",
    "%load_ext autoreload\n",
    "%autoreload 2"
   ]
  },
  {
   "cell_type": "code",
   "execution_count": 37,
   "metadata": {},
   "outputs": [],
   "source": [
    "import torch\n",
    "from sklearn.model_selection import train_test_split\n",
    "from sklearn.linear_model import LogisticRegressionCV\n",
    "from fastai.text import *\n",
    "from src.dataloader import DatasetStream\n",
    "from src.models import ArCosModel, FullyConnectedNet, nn_evaluate"
   ]
  },
  {
   "cell_type": "markdown",
   "metadata": {},
   "source": [
    "# Datasets and Dataloaders"
   ]
  },
  {
   "cell_type": "markdown",
   "metadata": {},
   "source": [
    "Link to download USE embeddings: \n",
    "[Train](https://drive.google.com/file/d/1g2izNAlAnszU_PNALYQJWUqHWoBCmfM9/view?usp=sharing)"
   ]
  },
  {
   "cell_type": "code",
   "execution_count": 3,
   "metadata": {},
   "outputs": [],
   "source": [
    "# Path containing USE embeddings\n",
    "DATA=Path('../data/universal-sentence-encoder/')\n",
    "\n",
    "# Config\n",
    "bs=48\n",
    "emb_sz = 512"
   ]
  },
  {
   "cell_type": "code",
   "execution_count": 4,
   "metadata": {},
   "outputs": [],
   "source": [
    "# Because of large memory requirements of the array, we will use memory mapped\n",
    "# numpy arrays.\n",
    "\n",
    "qnemb = np.load(str(DATA/'qnemb.npy'), mmap_mode='r').astype(np.float32)\n",
    "qnlabels = np.load(str(DATA/'qnlabels.npy'), mmap_mode='r').astype(np.int64)\n",
    "\n",
    "# Get CV idxs\n",
    "total = qnlabels.shape[0]\n",
    "idxs = np.array([i for i in range(total)])\n",
    "trn_idxs, val_idxs = train_test_split(idxs, test_size=0.1, random_state=0)\n",
    "\n",
    "# Make Datasets\n",
    "trn_ds = DatasetStream(qnemb, qnlabels, trn_idxs)\n",
    "val_ds = DatasetStream(qnemb, qnlabels, val_idxs)\n",
    "\n",
    "# Make Dataloaders\n",
    "trn_dl = torch.utils.data.DataLoader(trn_ds, batch_size=bs, shuffle=True)\n",
    "val_dl = torch.utils.data.DataLoader(val_ds, batch_size=bs, shuffle=False)\n",
    "\n",
    "# Create fast.ai Model Data Object\n",
    "md = ModelData('.', trn_dl, val_dl)"
   ]
  },
  {
   "cell_type": "code",
   "execution_count": 5,
   "metadata": {},
   "outputs": [
    {
     "name": "stdout",
     "output_type": "stream",
     "text": [
      "torch.Size([48, 2, 512]) torch.Size([48])\n"
     ]
    }
   ],
   "source": [
    "# View a sample\n",
    "x, y = next(iter(md.trn_dl))\n",
    "print(x.shape, y.shape)"
   ]
  },
  {
   "cell_type": "markdown",
   "metadata": {},
   "source": [
    "The middle two dimensions correspond to different embedding for the question pairs."
   ]
  },
  {
   "cell_type": "markdown",
   "metadata": {},
   "source": [
    "# Models"
   ]
  },
  {
   "cell_type": "markdown",
   "metadata": {},
   "source": [
    "### 1. ArCos (Baseline)"
   ]
  },
  {
   "cell_type": "markdown",
   "metadata": {},
   "source": [
    "Similar to the distance formulation used in the original \"Universal Sentence Encoder\" paper for judging similarity between pairs of sentences, as baseline we first compute the cosine similarity between vectors of the question pairs and then apply arccos to convert it into an angular distance. We then map the distances to probabilities using a Logistic Regression Classifier."
   ]
  },
  {
   "cell_type": "code",
   "execution_count": 7,
   "metadata": {},
   "outputs": [
    {
     "name": "stdout",
     "output_type": "stream",
     "text": [
      "Completed 1 batches\n",
      "Completed 2001 batches\n",
      "Completed 4001 batches\n",
      "Completed 6001 batches\n",
      "Completed all batches!\n"
     ]
    },
    {
     "name": "stderr",
     "output_type": "stream",
     "text": [
      "[Parallel(n_jobs=-1)]: Done   4 out of  10 | elapsed:   53.1s remaining:  1.3min\n",
      "[Parallel(n_jobs=-1)]: Done  10 out of  10 | elapsed:   57.5s finished\n"
     ]
    },
    {
     "name": "stdout",
     "output_type": "stream",
     "text": [
      "Completed 1 batches\n",
      "Completed all batches!\n",
      "Accuracy:  0.7180489252764105\n",
      "Negative Log loss:  0.5370306172297293\n",
      "             precision    recall  f1-score   support\n",
      "\n",
      "        0.0       0.84      0.68      0.75     25520\n",
      "        1.0       0.59      0.78      0.67     14909\n",
      "\n",
      "avg / total       0.75      0.72      0.72     40429\n",
      "\n"
     ]
    }
   ],
   "source": [
    "arcos = ArCosModel(md, class_weight=\"balanced\")\n",
    "arcos.fit()\n",
    "arcos.evaluate()"
   ]
  },
  {
   "cell_type": "markdown",
   "metadata": {},
   "source": [
    "### 2. Feedforward Neural Net"
   ]
  },
  {
   "cell_type": "code",
   "execution_count": 14,
   "metadata": {},
   "outputs": [],
   "source": [
    "# Convert labels to float datatype for Binary cross entropy loss\n",
    "md.trn_ds.y = md.trn_ds.y.astype(np.float32)\n",
    "md.val_ds.y = md.val_ds.y.astype(np.float32)"
   ]
  },
  {
   "cell_type": "code",
   "execution_count": 28,
   "metadata": {},
   "outputs": [],
   "source": [
    "learn = Learner(md, SingleModel(FullyConnectedNet(emb_sz, [2048, 1024, 512], [0.1, 0.3, 0.1]).cuda()), \n",
    "                crit=F.binary_cross_entropy, opt_fn=optim.Adam)"
   ]
  },
  {
   "cell_type": "code",
   "execution_count": 30,
   "metadata": {},
   "outputs": [
    {
     "data": {
      "application/vnd.jupyter.widget-view+json": {
       "model_id": "cb1edc2e62bb49d2ac29c87d632ff64b",
       "version_major": 2,
       "version_minor": 0
      },
      "text/plain": [
       "HBox(children=(IntProgress(value=0, description='Epoch', max=1), HTML(value='')))"
      ]
     },
     "metadata": {},
     "output_type": "display_data"
    },
    {
     "name": "stdout",
     "output_type": "stream",
     "text": [
      "  0%|          | 27/7581 [00:00<01:39, 75.82it/s, loss=0.689]\n",
      " 70%|███████   | 5311/7581 [01:05<00:27, 81.39it/s, loss=1.99]"
     ]
    },
    {
     "data": {
      "image/png": "[encoded data removed]",
      "text/plain": [
       "<Figure size 432x288 with 1 Axes>"
      ]
     },
     "metadata": {},
     "output_type": "display_data"
    },
    {
     "name": "stdout",
     "output_type": "stream",
     "text": [
      " 70%|███████   | 5311/7581 [01:23<00:35, 63.46it/s, loss=1.99]"
     ]
    }
   ],
   "source": [
    "wd = 1e-7\n",
    "learn.lr_find(1e-5, 2, wds=wd)\n",
    "learn.sched.plot()"
   ]
  },
  {
   "cell_type": "code",
   "execution_count": 32,
   "metadata": {},
   "outputs": [
    {
     "data": {
      "application/vnd.jupyter.widget-view+json": {
       "model_id": "052d5c335f724543bd87663a47380aaf",
       "version_major": 2,
       "version_minor": 0
      },
      "text/plain": [
       "HBox(children=(IntProgress(value=0, description='Epoch', max=1), HTML(value='')))"
      ]
     },
     "metadata": {},
     "output_type": "display_data"
    },
    {
     "name": "stdout",
     "output_type": "stream",
     "text": [
      "  5%|▌         | 410/7581 [00:06<01:48, 66.05it/s, loss=0.613]\n",
      "epoch      trn_loss   val_loss   \n",
      "    0      0.381976   0.383019  \n",
      "\n"
     ]
    },
    {
     "data": {
      "text/plain": [
       "[array([0.38302])]"
      ]
     },
     "execution_count": 32,
     "metadata": {},
     "output_type": "execute_result"
    }
   ],
   "source": [
    "learn.fit(1e-4, 1, cycle_len=1, wds=wd, use_clr=(10, 10))"
   ]
  },
  {
   "cell_type": "code",
   "execution_count": 33,
   "metadata": {},
   "outputs": [
    {
     "data": {
      "application/vnd.jupyter.widget-view+json": {
       "model_id": "b314d0d516984ab28b0252514e26facd",
       "version_major": 2,
       "version_minor": 0
      },
      "text/plain": [
       "HBox(children=(IntProgress(value=0, description='Epoch', max=5), HTML(value='')))"
      ]
     },
     "metadata": {},
     "output_type": "display_data"
    },
    {
     "name": "stdout",
     "output_type": "stream",
     "text": [
      "epoch      trn_loss   val_loss   \n",
      "    0      0.372424   0.375201  \n",
      "    1      0.33639    0.360276  \n",
      "    2      0.334444   0.351054  \n",
      "    3      0.29783    0.350916  \n",
      "    4      0.279624   0.350018  \n",
      "\n"
     ]
    },
    {
     "data": {
      "text/plain": [
       "[array([0.35002])]"
      ]
     },
     "execution_count": 33,
     "metadata": {},
     "output_type": "execute_result"
    }
   ],
   "source": [
    "learn.fit(5e-5, 1, cycle_len=5, wds=wd, use_clr=(20, 10))"
   ]
  },
  {
   "cell_type": "code",
   "execution_count": 40,
   "metadata": {},
   "outputs": [
    {
     "name": "stdout",
     "output_type": "stream",
     "text": [
      "Accuracy:  0.8419204036706325\n",
      "Negative Log loss:  0.3500181688324724\n",
      "             precision    recall  f1-score   support\n",
      "\n",
      "        0.0       0.88      0.86      0.87     25520\n",
      "        1.0       0.77      0.81      0.79     14909\n",
      "\n",
      "avg / total       0.84      0.84      0.84     40429\n",
      "\n"
     ]
    }
   ],
   "source": [
    "nn_evaluate(val_dl, learn.model)"
   ]
  }
 ],
 "metadata": {
  "kernelspec": {
   "display_name": "fa",
   "language": "python",
   "name": "fa"
  },
  "language_info": {
   "codemirror_mode": {
    "name": "ipython",
    "version": 3
   },
   "file_extension": ".py",
   "mimetype": "text/x-python",
   "name": "python",
   "nbconvert_exporter": "python",
   "pygments_lexer": "ipython3",
   "version": "3.6.5"
  }
 },
 "nbformat": 4,
 "nbformat_minor": 2
}
